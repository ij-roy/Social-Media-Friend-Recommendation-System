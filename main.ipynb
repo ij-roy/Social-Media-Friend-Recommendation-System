{
 "cells": [
  {
   "cell_type": "markdown",
   "id": "ec2f3c17",
   "metadata": {},
   "source": [
    "# Friend Recommendation System\n",
    "Main Notebook for Training and Testing Models"
   ]
  },
  {
   "cell_type": "code",
   "execution_count": 1,
   "id": "bc411100",
   "metadata": {},
   "outputs": [],
   "source": [
    "\n",
    "import os\n",
    "import pandas as pd\n",
    "from utils.data_loader import load_features, load_edges\n",
    "from utils.preprocess import normalize_features\n",
    "from models.cosine_similarity import recommend_friends\n",
    "from models.knn_model import train_knn, recommend_knn\n",
    "from models.kmeans_model import train_kmeans, predict_cluster\n",
    "from models.matrix_factorization_model import build_interaction_dataframe, train_svd\n",
    "from models.hybrid_model import combine_scores\n",
    "import joblib\n"
   ]
  },
  {
   "cell_type": "markdown",
   "id": "a985a3f6",
   "metadata": {},
   "source": [
    "## Load Data"
   ]
  },
  {
   "cell_type": "code",
   "execution_count": 2,
   "id": "fc6a5de2",
   "metadata": {},
   "outputs": [
    {
     "name": "stdout",
     "output_type": "stream",
     "text": [
      "Loaded 10 users with 576 features.\n",
      "Loaded 3959 nodes and 84243 edges in friendship graph.\n"
     ]
    }
   ],
   "source": [
    "\n",
    "features = load_features('data/facebook/features.txt')\n",
    "edges_graph = load_edges('data/facebook/edges.txt')\n",
    "print(f\"Loaded {features.shape[0]} users with {features.shape[1]} features.\")\n",
    "print(f\"Loaded {edges_graph.number_of_nodes()} nodes and {edges_graph.number_of_edges()} edges in friendship graph.\")\n"
   ]
  },
  {
   "cell_type": "markdown",
   "id": "d3884272",
   "metadata": {},
   "source": [
    "## Preprocess Data"
   ]
  },
  {
   "cell_type": "code",
   "execution_count": 3,
   "id": "53d37754",
   "metadata": {},
   "outputs": [
    {
     "name": "stdout",
     "output_type": "stream",
     "text": [
      "         1    2    3    4    5    6    7    8    9    10   ...  567  568  569  \\\n",
      "user_id                                                    ...                  \n",
      "0        0.0  0.0  0.0  0.0  0.0  0.0  0.0  0.0  0.0  1.0  ...  0.0  0.0  0.0   \n",
      "107      0.0  0.0  0.0  0.0  0.0  0.0  0.0  0.0  1.0  0.0  ...  0.0  0.0  0.0   \n",
      "1684     0.0  0.0  0.0  0.0  0.0  1.0  0.0  0.0  0.0  0.0  ...  0.0  0.0  0.0   \n",
      "1912     0.0  0.0  0.0  0.0  0.0  0.0  0.0  0.0  1.0  0.0  ...  0.0  0.0  0.0   \n",
      "3437     0.0  0.0  0.0  0.0  1.0  0.0  0.0  0.0  0.0  1.0  ...  0.0  0.0  0.0   \n",
      "\n",
      "         570  571  572  573  574  575  576  \n",
      "user_id                                     \n",
      "0        0.0  0.0  0.0  0.0  0.0  0.0  0.0  \n",
      "107      0.0  0.0  0.0  0.0  0.0  0.0  0.0  \n",
      "1684     0.0  0.0  0.0  0.0  0.0  0.0  0.0  \n",
      "1912     0.0  0.0  0.0  0.0  0.0  0.0  0.0  \n",
      "3437     0.0  0.0  0.0  0.0  0.0  0.0  0.0  \n",
      "\n",
      "[5 rows x 576 columns]\n"
     ]
    }
   ],
   "source": [
    "\n",
    "features = features.fillna(0)\n",
    "features_normalized = normalize_features(features)\n",
    "print(features_normalized.head())\n"
   ]
  },
  {
   "cell_type": "markdown",
   "id": "1094a960",
   "metadata": {},
   "source": [
    "## Train Models and Save"
   ]
  },
  {
   "cell_type": "markdown",
   "id": "b6fc4ee5",
   "metadata": {},
   "source": [
    "### Cosine Similarity (No Training Needed)"
   ]
  },
  {
   "cell_type": "markdown",
   "id": "577c3ac7",
   "metadata": {},
   "source": [
    "### KNN Model"
   ]
  },
  {
   "cell_type": "code",
   "execution_count": 4,
   "id": "258b9ffd",
   "metadata": {},
   "outputs": [
    {
     "name": "stdout",
     "output_type": "stream",
     "text": [
      "KNN model saved.\n"
     ]
    }
   ],
   "source": [
    "\n",
    "knn_model = train_knn(features_normalized, n_neighbors=5)\n",
    "os.makedirs('models/saved_models', exist_ok=True)\n",
    "joblib.dump(knn_model, 'models/saved_models/knn_model.pkl')\n",
    "print(\"KNN model saved.\")\n"
   ]
  },
  {
   "cell_type": "markdown",
   "id": "85bf0494",
   "metadata": {},
   "source": [
    "### KMeans Clustering Model"
   ]
  },
  {
   "cell_type": "code",
   "execution_count": 5,
   "id": "7489d2f4",
   "metadata": {},
   "outputs": [
    {
     "name": "stdout",
     "output_type": "stream",
     "text": [
      "KMeans model saved to models/saved_models/kmeans_model.pkl\n"
     ]
    }
   ],
   "source": [
    "\n",
    "kmeans_model = train_kmeans(features_normalized, n_clusters=10)\n"
   ]
  },
  {
   "cell_type": "markdown",
   "id": "dcc2ac26",
   "metadata": {},
   "source": [
    "### Matrix Factorization (SVD Model)"
   ]
  },
  {
   "cell_type": "code",
   "execution_count": 6,
   "id": "aba685be",
   "metadata": {},
   "outputs": [
    {
     "name": "stdout",
     "output_type": "stream",
     "text": [
      "SVD model saved to models/saved_models/svd_model.pkl\n"
     ]
    }
   ],
   "source": [
    "\n",
    "interactions_df = build_interaction_dataframe(edges_graph)\n",
    "svd_model = train_svd(interactions_df)\n"
   ]
  },
  {
   "cell_type": "markdown",
   "id": "6342604d",
   "metadata": {},
   "source": [
    "## Recommend Friends (Testing Models)"
   ]
  },
  {
   "cell_type": "code",
   "execution_count": 7,
   "id": "19acbfe5",
   "metadata": {},
   "outputs": [
    {
     "name": "stdout",
     "output_type": "stream",
     "text": [
      "Cosine Recommendations: [(3437, 0.1522773975253762), (686, 0.1217161238900369), (107, 0.05504818825631803), (348, 0.03984095364447979), (1912, 0.03390317518104052)]\n",
      "KNN Recommendations: [(3437, 0.15227739752537617), (686, 0.12171612389003694), (107, 0.055048188256318076), (348, 0.039840953644479815), (1912, 0.03390317518104047)]\n",
      "User 0 belongs to cluster 2\n"
     ]
    }
   ],
   "source": [
    "\n",
    "valid_user_ids = features_normalized.index.tolist()\n",
    "selected_user_id = valid_user_ids[0]\n",
    "\n",
    "# Cosine Recommendations\n",
    "cosine_recommendations = recommend_friends(selected_user_id, features_normalized, top_k=5)\n",
    "print(\"Cosine Recommendations:\", cosine_recommendations)\n",
    "\n",
    "# KNN Recommendations\n",
    "knn_recommendations = recommend_knn(selected_user_id, features_normalized, knn_model, top_k=5)\n",
    "print(\"KNN Recommendations:\", knn_recommendations)\n",
    "\n",
    "# KMeans Cluster Prediction\n",
    "cluster = predict_cluster(selected_user_id, features_normalized, kmeans_model)\n",
    "print(f\"User {selected_user_id} belongs to cluster {cluster}\")\n",
    "\n",
    "# (For KMeans, we could later recommend users from the same cluster)\n",
    "\n",
    "# SVD model will be used in hybrid\n"
   ]
  },
  {
   "cell_type": "markdown",
   "id": "663ac0f6",
   "metadata": {},
   "source": [
    "## Hybrid Model Combination"
   ]
  },
  {
   "cell_type": "code",
   "execution_count": 8,
   "id": "4152032b",
   "metadata": {},
   "outputs": [
    {
     "name": "stdout",
     "output_type": "stream",
     "text": [
      "Final Hybrid Recommendations: [(3437, 0.4611386987626881), (686, 0.4458580619450185), (107, 0.41252409412815905), (348, 0.4049204768222399), (1912, 0.40195158759052024)]\n"
     ]
    }
   ],
   "source": [
    "\n",
    "# Prepare dummy scores\n",
    "cosine_scores = dict(cosine_recommendations)\n",
    "knn_scores = dict(knn_recommendations)\n",
    "kmeans_scores = {uid: 0.8 for uid, _ in cosine_recommendations}  # Dummy fixed score\n",
    "svd_scores = {uid: 0.75 for uid, _ in cosine_recommendations}    # Dummy fixed score\n",
    "\n",
    "# Combine\n",
    "final_recommendations = combine_scores(cosine_scores, knn_scores, kmeans_scores, svd_scores, top_k=5)\n",
    "print(\"Final Hybrid Recommendations:\", final_recommendations)\n"
   ]
  }
 ],
 "metadata": {
  "kernelspec": {
   "display_name": "base",
   "language": "python",
   "name": "python3"
  },
  "language_info": {
   "codemirror_mode": {
    "name": "ipython",
    "version": 3
   },
   "file_extension": ".py",
   "mimetype": "text/x-python",
   "name": "python",
   "nbconvert_exporter": "python",
   "pygments_lexer": "ipython3",
   "version": "3.12.4"
  }
 },
 "nbformat": 4,
 "nbformat_minor": 5
}
