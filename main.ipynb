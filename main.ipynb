{
 "cells": [
  {
   "cell_type": "markdown",
   "id": "dffc922f",
   "metadata": {},
   "source": []
  },
  {
   "cell_type": "markdown",
   "id": "8e6bdd0b",
   "metadata": {},
   "source": [
    "# Train Test Split"
   ]
  },
  {
   "cell_type": "code",
   "execution_count": 14,
   "id": "9bea281b",
   "metadata": {},
   "outputs": [
    {
     "name": "stdout",
     "output_type": "stream",
     "text": [
      "Total edges loaded from data/facebook/edges.txt: 170174\n",
      "Train edges: 136139, Test edges: 34035\n",
      "✅ Train/Test files saved successfully inside data/facebook/!\n",
      "\n",
      "Total edges loaded from data/pokec/relationships.txt: 30622564\n",
      "Train edges: 24498051, Test edges: 6124513\n",
      "✅ Train/Test files saved successfully inside data/pokec/!\n",
      "\n",
      "🎯 Done! Now both Facebook and Pokec datasets have Train/Test splits ready!\n"
     ]
    }
   ],
   "source": [
    "# 📦 Import Required Libraries\n",
    "import os\n",
    "import random\n",
    "import pandas as pd\n",
    "\n",
    "# 📍 Set base paths\n",
    "facebook_edges_path = 'data/facebook/edges.txt'\n",
    "pokec_relationships_path = 'data/pokec/relationships.txt'\n",
    "\n",
    "# Create folders if not exist\n",
    "os.makedirs('data/facebook/', exist_ok=True)\n",
    "os.makedirs('data/pokec/', exist_ok=True)\n",
    "\n",
    "# 📚 Split Function (Reusable for both Facebook and Pokec)\n",
    "def split_edges(input_path, output_folder, train_filename, test_filename, test_size=0.2, seed=42):\n",
    "    \"\"\"\n",
    "    Splits the friendship/relationship edges into train and test sets.\n",
    "    \"\"\"\n",
    "    random.seed(seed)\n",
    "\n",
    "    # Step 1: Load edges\n",
    "    with open(input_path, 'r', encoding='utf-8') as f:\n",
    "        edges = [tuple(map(int, line.strip().split())) for line in f]\n",
    "\n",
    "    print(f\"Total edges loaded from {input_path}: {len(edges)}\")\n",
    "\n",
    "    # Step 2: Shuffle and split\n",
    "    random.shuffle(edges)\n",
    "    split_idx = int((1 - test_size) * len(edges))\n",
    "    train_edges = edges[:split_idx]\n",
    "    test_edges = edges[split_idx:]\n",
    "\n",
    "    print(f\"Train edges: {len(train_edges)}, Test edges: {len(test_edges)}\")\n",
    "\n",
    "    # Step 3: Save\n",
    "    with open(os.path.join(output_folder, train_filename), 'w', encoding='utf-8') as f:\n",
    "        for u, v in train_edges:\n",
    "            f.write(f\"{u} {v}\\n\")\n",
    "\n",
    "    with open(os.path.join(output_folder, test_filename), 'w', encoding='utf-8') as f:\n",
    "        for u, v in test_edges:\n",
    "            f.write(f\"{u} {v}\\n\")\n",
    "\n",
    "    print(f\"✅ Train/Test files saved successfully inside {output_folder}!\\n\")\n",
    "\n",
    "# 📦 Split Facebook dataset\n",
    "split_edges(\n",
    "    input_path=facebook_edges_path,\n",
    "    output_folder='data/facebook/',\n",
    "    train_filename='train_edges.txt',\n",
    "    test_filename='test_edges.txt',\n",
    "    test_size=0.2,\n",
    "    seed=42\n",
    ")\n",
    "\n",
    "# 📦 Split Pokec dataset\n",
    "split_edges(\n",
    "    input_path=pokec_relationships_path,\n",
    "    output_folder='data/pokec/',\n",
    "    train_filename='train_relationships.txt',\n",
    "    test_filename='test_relationships.txt',\n",
    "    test_size=0.2,\n",
    "    seed=42\n",
    ")\n",
    "\n",
    "print(\"🎯 Done! Now both Facebook and Pokec datasets have Train/Test splits ready!\")"
   ]
  }
 ],
 "metadata": {
  "kernelspec": {
   "display_name": "Python 3",
   "language": "python",
   "name": "python3"
  },
  "language_info": {
   "codemirror_mode": {
    "name": "ipython",
    "version": 3
   },
   "file_extension": ".py",
   "mimetype": "text/x-python",
   "name": "python",
   "nbconvert_exporter": "python",
   "pygments_lexer": "ipython3",
   "version": "3.12.2"
  }
 },
 "nbformat": 4,
 "nbformat_minor": 5
}
