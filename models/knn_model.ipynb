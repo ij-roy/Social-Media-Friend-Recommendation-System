{
 "cells": [
  {
   "cell_type": "code",
   "execution_count": 1,
   "id": "000c9280",
   "metadata": {},
   "outputs": [],
   "source": [
    "# KNN Model for Friend Recommendation\n",
    "\n",
    "import pandas as pd\n",
    "import numpy as np\n",
    "from sklearn.preprocessing import StandardScaler, OneHotEncoder\n",
    "from sklearn.feature_extraction.text import TfidfVectorizer\n",
    "from sklearn.neighbors import NearestNeighbors\n",
    "from sklearn.metrics import precision_score, recall_score\n",
    "import joblib\n",
    "import os\n",
    "from tqdm import tqdm"
   ]
  },
  {
   "cell_type": "code",
   "execution_count": 2,
   "id": "57a0e71a",
   "metadata": {},
   "outputs": [],
   "source": [
    "# -----------------------------\n",
    "# 1. Load Data\n",
    "# -----------------------------\n",
    "profiles = pd.read_csv('../data/pokec/profiles.csv')\n",
    "test_edges = pd.read_csv('../data/pokec/test_relationships.txt', sep='\\t', names=['user_id', 'friend_id'])\n"
   ]
  },
  {
   "cell_type": "code",
   "execution_count": 3,
   "id": "a9eb8d61",
   "metadata": {},
   "outputs": [],
   "source": [
    "# -----------------------------\n",
    "# 2. Select and Clean Features\n",
    "# -----------------------------\n",
    "selected_cols = [\n",
    "    'user_id', 'age', 'height', 'weight', 'gender', 'region',\n",
    "    'hobbies', 'favorite_movie_genres', 'music_genres'\n",
    "]\n",
    "df = profiles[selected_cols]\n",
    "df = df[df['age'].notna() & df['gender'].notna() & df['region'].notna()]  # Essential features\n"
   ]
  },
  {
   "cell_type": "code",
   "execution_count": 4,
   "id": "c491285f",
   "metadata": {},
   "outputs": [],
   "source": [
    "from scipy import sparse\n",
    "\n",
    "# Numeric features\n",
    "scaler = StandardScaler()\n",
    "numeric = scaler.fit_transform(df[['age', 'height', 'weight']].fillna(0))\n",
    "numeric_sparse = sparse.csr_matrix(numeric)\n",
    "\n",
    "# Categorical features\n",
    "encoder = OneHotEncoder(sparse_output=True, handle_unknown='ignore')\n",
    "categorical = encoder.fit_transform(df[['gender', 'region']])\n",
    "\n",
    "# Textual features (already sparse)\n",
    "vectorizer = TfidfVectorizer(max_features=50)\n",
    "hobbies_vec = vectorizer.fit_transform(df['hobbies'].fillna('').astype(str))\n",
    "movies_vec = vectorizer.fit_transform(df['favorite_movie_genres'].fillna('').astype(str))\n",
    "music_vec = vectorizer.fit_transform(df['music_genres'].fillna('').astype(str))\n",
    "\n",
    "# Combine all as sparse matrix\n",
    "X = sparse.hstack([\n",
    "    numeric_sparse,\n",
    "    categorical,\n",
    "    hobbies_vec,\n",
    "    movies_vec,\n",
    "    music_vec\n",
    "]).tocsr()\n",
    "\n",
    "# Final mapping\n",
    "user_ids = df['user_id'].values\n",
    "user_id_to_index = {uid: idx for idx, uid in enumerate(user_ids)}\n"
   ]
  },
  {
   "cell_type": "code",
   "execution_count": 5,
   "id": "ccf6a8df",
   "metadata": {},
   "outputs": [
    {
     "name": "stdout",
     "output_type": "stream",
     "text": [
      "✅ KNN model trained with k=11\n"
     ]
    }
   ],
   "source": [
    "# -----------------------------\n",
    "# 3. Train KNN Model\n",
    "# -----------------------------\n",
    "k = 11  # 10 neighbors + self\n",
    "knn = NearestNeighbors(n_neighbors=k, metric='cosine')\n",
    "knn.fit(X)\n",
    "\n",
    "print(f\"✅ KNN model trained with k={k}\")\n"
   ]
  },
  {
   "cell_type": "code",
   "execution_count": 1,
   "id": "17a8b5f5",
   "metadata": {},
   "outputs": [],
   "source": [
    "# -----------------------------\n",
    "# 4. Recommend Top-N Friends\n",
    "# -----------------------------\n",
    "def recommend_knn(user_idx, X, user_ids, n=10):\n",
    "    distances, indices = knn.kneighbors(X[user_idx].reshape(1, -1))\n",
    "    neighbors = indices[0][1:]  # Exclude the user itself\n",
    "    return user_ids[neighbors[:n]]\n"
   ]
  },
  {
   "cell_type": "code",
   "execution_count": null,
   "id": "2865fedc",
   "metadata": {},
   "outputs": [
    {
     "name": "stdout",
     "output_type": "stream",
     "text": [
      "🔁 Using full test set of 789669 edges for evaluation.\n",
      "🔎 Evaluating (KNN - full set): 100%|████████████████████████████████████████| 789669/789669 [12:10<00:00, 1081.52it/s]\n",
      "\n",
      "✅ KNN Model Results:\n",
      "Precision@10: 0.0117\n",
      "Recall@10: 0.0521\n"
     ]
    }
   ],
   "source": [
    "from tqdm import tqdm\n",
    "\n",
    "# -----------------------------\n",
    "# 5. Evaluate on Full Test Set (KNN)\n",
    "# -----------------------------\n",
    "\n",
    "# Filter test edges to include only valid users\n",
    "test_edges = test_edges[test_edges['user_id'].isin(user_id_to_index)]\n",
    "test_edges = test_edges[test_edges['friend_id'].isin(user_id_to_index)]\n",
    "\n",
    "# ✅ No sampling — use the entire test set\n",
    "print(f\"🔁 Using full test set of {len(test_edges)} edges for evaluation.\")\n",
    "\n",
    "hits = 0\n",
    "total = 0\n",
    "N = 10  # Top-N recommendations\n",
    "\n",
    "# Progress bar for the loop\n",
    "for _, row in tqdm(test_edges.iterrows(), total=len(test_edges), desc=\"🔎 Evaluating (KNN - full set)\"):\n",
    "    user = row['user_id']\n",
    "    friend = row['friend_id']\n",
    "\n",
    "    if user not in user_id_to_index or friend not in user_id_to_index:\n",
    "        continue\n",
    "\n",
    "    uidx = user_id_to_index[user]\n",
    "    recommended = recommend_knn(uidx, X, user_ids, n=N)\n",
    "\n",
    "    if friend in recommended:\n",
    "        hits += 1\n",
    "    total += 1\n",
    "\n",
    "if total > 0:\n",
    "    precision_at_n = hits / (total * N)\n",
    "    recall_at_n = hits / total\n",
    "    print(f'\\n✅ KNN Model Results:')\n",
    "    print(f'Precision@{N}: {precision_at_n:.4f}')\n",
    "    print(f'Recall@{N}: {recall_at_n:.4f}')\n",
    "else:\n",
    "    print(\"⚠️ No valid test edges found for evaluation.\")"
   ]
  },
  {
   "cell_type": "code",
   "execution_count": null,
   "id": "bdde85e3",
   "metadata": {},
   "outputs": [
    {
     "name": "stdout",
     "output_type": "stream",
     "text": [
      "✅ KNN model and features saved to ../models/saved_models/pokec/\n"
     ]
    }
   ],
   "source": [
    "# -----------------------------\n",
    "# 6. Save Model and Components\n",
    "# -----------------------------\n",
    "save_path = '../models/saved_models/pokec/'\n",
    "os.makedirs(save_path, exist_ok=True)\n",
    "\n",
    "joblib.dump(knn, save_path + 'knn_model.pkl')\n",
    "np.save(save_path + 'knn_features.npy', X)\n",
    "joblib.dump(user_ids, save_path + 'user_ids.pkl')\n",
    "joblib.dump(scaler, save_path + 'scaler.pkl')\n",
    "joblib.dump(encoder, save_path + 'encoder.pkl')\n",
    "joblib.dump(vectorizer, save_path + 'tfidf_vectorizer.pkl')\n",
    "\n",
    "print(f'✅ KNN model and features saved to {save_path}')\n"
   ]
  }
 ],
 "metadata": {
  "kernelspec": {
   "display_name": "base",
   "language": "python",
   "name": "python3"
  },
  "language_info": {
   "codemirror_mode": {
    "name": "ipython",
    "version": 3
   },
   "file_extension": ".py",
   "mimetype": "text/x-python",
   "name": "python",
   "nbconvert_exporter": "python",
   "pygments_lexer": "ipython3",
   "version": "3.12.4"
  }
 },
 "nbformat": 4,
 "nbformat_minor": 5
}
