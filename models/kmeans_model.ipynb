{
 "cells": [
  {
   "cell_type": "code",
   "execution_count": 3,
   "id": "4dbc25cd",
   "metadata": {},
   "outputs": [],
   "source": [
    "# KMeans Clustering for Friend Recommendation\n",
    "\n",
    "import pandas as pd\n",
    "import numpy as np\n",
    "from sklearn.preprocessing import StandardScaler, OneHotEncoder\n",
    "from sklearn.feature_extraction.text import TfidfVectorizer\n",
    "from sklearn.cluster import KMeans\n",
    "from sklearn.metrics import precision_score, recall_score\n",
    "import joblib\n",
    "import os"
   ]
  },
  {
   "cell_type": "code",
   "execution_count": 4,
   "id": "95ec03d3",
   "metadata": {},
   "outputs": [],
   "source": [
    "# -----------------------------\n",
    "# 1. Load Data\n",
    "# -----------------------------\n",
    "profiles = pd.read_csv('../data/pokec/profiles.csv')\n",
    "test_edges = pd.read_csv('../data/pokec/test_relationships.txt', sep='\\t', names=['user_id', 'friend_id'])\n"
   ]
  },
  {
   "cell_type": "code",
   "execution_count": 5,
   "id": "e7fdb4ba",
   "metadata": {},
   "outputs": [],
   "source": [
    "# -----------------------------\n",
    "# 2. Select and Clean Features\n",
    "# -----------------------------\n",
    "selected_cols = [\n",
    "    'user_id', 'age', 'height', 'weight', 'gender', 'region',\n",
    "    'hobbies', 'favorite_movie_genres', 'music_genres'\n",
    "]\n",
    "df = profiles[selected_cols]\n",
    "df = df[df['age'].notna() & df['gender'].notna() & df['region'].notna()]  # Keep essential fields\n"
   ]
  },
  {
   "cell_type": "code",
   "execution_count": 6,
   "id": "2d17c867",
   "metadata": {},
   "outputs": [],
   "source": [
    "# Scale numeric features\n",
    "scaler = StandardScaler()\n",
    "numeric = scaler.fit_transform(df[['age', 'height', 'weight']].fillna(0))\n"
   ]
  },
  {
   "cell_type": "code",
   "execution_count": 7,
   "id": "89095b98",
   "metadata": {},
   "outputs": [],
   "source": [
    "# One-hot categorical\n",
    "encoder = OneHotEncoder(sparse_output=False, handle_unknown='ignore')\n",
    "categorical = encoder.fit_transform(df[['gender', 'region']])\n"
   ]
  },
  {
   "cell_type": "code",
   "execution_count": 8,
   "id": "6ad5bf65",
   "metadata": {},
   "outputs": [],
   "source": [
    "# TF-IDF text\n",
    "vectorizer = TfidfVectorizer(max_features=50)\n",
    "hobbies_vec = vectorizer.fit_transform(df['hobbies'].fillna('').astype(str)).toarray()\n",
    "movies_vec = vectorizer.fit_transform(df['favorite_movie_genres'].fillna('').astype(str)).toarray()\n",
    "music_vec = vectorizer.fit_transform(df['music_genres'].fillna('').astype(str)).toarray()\n"
   ]
  },
  {
   "cell_type": "code",
   "execution_count": 9,
   "id": "fa407582",
   "metadata": {},
   "outputs": [],
   "source": [
    "# Combine all features\n",
    "X = np.hstack([numeric, categorical, hobbies_vec, movies_vec, music_vec])\n",
    "user_ids = df['user_id'].values\n",
    "user_id_to_index = {uid: idx for idx, uid in enumerate(user_ids)}\n"
   ]
  },
  {
   "cell_type": "code",
   "execution_count": 10,
   "id": "a6de9edf",
   "metadata": {},
   "outputs": [
    {
     "name": "stdout",
     "output_type": "stream",
     "text": [
      "✅ KMeans clustering completed. 200 clusters formed.\n"
     ]
    }
   ],
   "source": [
    "# -----------------------------\n",
    "# 3. Train KMeans Model\n",
    "# -----------------------------\n",
    "n_clusters = 200\n",
    "kmeans = KMeans(n_clusters=n_clusters, random_state=42)\n",
    "kmeans.fit(X)\n",
    "labels = kmeans.labels_\n",
    "\n",
    "print(f\"✅ KMeans clustering completed. {n_clusters} clusters formed.\")\n"
   ]
  },
  {
   "cell_type": "code",
   "execution_count": 11,
   "id": "ae79cd18",
   "metadata": {},
   "outputs": [],
   "source": [
    "# -----------------------------\n",
    "# 4. Recommend Users from Same Cluster\n",
    "# -----------------------------\n",
    "def recommend_from_cluster(user_idx, n=10):\n",
    "    user_cluster = labels[user_idx]\n",
    "    cluster_indices = np.where(labels == user_cluster)[0]\n",
    "    similar_indices = [i for i in cluster_indices if i != user_idx]\n",
    "    top_indices = np.random.choice(similar_indices, min(n, len(similar_indices)), replace=False)\n",
    "    return user_ids[top_indices]"
   ]
  },
  {
   "cell_type": "code",
   "execution_count": null,
   "id": "40ce6be5",
   "metadata": {},
   "outputs": [
    {
     "name": "stdout",
     "output_type": "stream",
     "text": [
      "✅ Test relationships loaded: 789669\n",
      "✅ Users in features: 427990\n",
      "🔎 Evaluating (KMeans - full set): 100%|████████████████████████████████████████| 789669/789669 [26:09<00:00, 502.20it/s]\n",
      "\n",
      "✅ KMeans Model Results (Full Test Set):\n",
      "Precision@10: 0.0083\n",
      "Recall@10: 0.0297\n"
     ]
    }
   ],
   "source": [
    "from tqdm import tqdm\n",
    "\n",
    "# -----------------------------\n",
    "# 5. Evaluate on Full Test Set\n",
    "# -----------------------------\n",
    "\n",
    "# Filter test edges to include only valid user IDs\n",
    "test_edges = test_edges[test_edges['user_id'].isin(user_id_to_index)]\n",
    "test_edges = test_edges[test_edges['friend_id'].isin(user_id_to_index)]\n",
    "\n",
    "print(f\"✅ Test relationships loaded: {len(test_edges)}\")\n",
    "print(f\"✅ Users in features: {len(user_ids)}\")\n",
    "\n",
    "hits = 0\n",
    "total = 0\n",
    "N = 10  # top-N recommendations\n",
    "\n",
    "# Evaluate with full loop and progress bar\n",
    "for _, row in tqdm(test_edges.iterrows(), total=len(test_edges), desc=\"🔎 Evaluating (KMeans - full set)\"):\n",
    "    user = row['user_id']\n",
    "    friend = row['friend_id']\n",
    "\n",
    "    if user not in user_id_to_index or friend not in user_id_to_index:\n",
    "        continue\n",
    "\n",
    "    uidx = user_id_to_index[user]\n",
    "    recommended = recommend_from_cluster(uidx, n=N)\n",
    "\n",
    "    if friend in recommended:\n",
    "        hits += 1\n",
    "    total += 1\n",
    "\n",
    "# -----------------------------\n",
    "# Final metrics\n",
    "# -----------------------------\n",
    "if total > 0:\n",
    "    precision_at_n = hits / (total * N)\n",
    "    recall_at_n = hits / total\n",
    "    print(f'\\n✅ KMeans Model Results (Full Test Set):')\n",
    "    print(f'Precision@{N}: {precision_at_n:.4f}')\n",
    "    print(f'Recall@{N}: {recall_at_n:.4f}')\n",
    "else:\n",
    "    print(\"⚠️ No valid test edges found for evaluation.\")"
   ]
  },
  {
   "cell_type": "code",
   "execution_count": 4,
   "id": "544c5adb",
   "metadata": {},
   "outputs": [
    {
     "name": "stdout",
     "output_type": "stream",
     "text": [
      "✅ Model and features saved to ../models/saved_models/pokec/\n"
     ]
    }
   ],
   "source": [
    "# -----------------------------\n",
    "# 6. Save Model and Components\n",
    "# -----------------------------\n",
    "save_path = '../models/saved_models/pokec/'\n",
    "# os.makedirs(save_path, exist_ok=True)\n",
    "\n",
    "# joblib.dump(kmeans, save_path + 'kmeans_model.pkl')\n",
    "# np.save(save_path + 'kmeans_features.npy', X)\n",
    "# joblib.dump(user_ids, save_path + 'user_ids.pkl')\n",
    "# joblib.dump(scaler, save_path + 'scaler.pkl')\n",
    "# joblib.dump(encoder, save_path + 'encoder.pkl')\n",
    "# joblib.dump(vectorizer, save_path + 'tfidf_vectorizer.pkl')\n",
    "\n",
    "print(f'✅ Model and features saved to {save_path}')"
   ]
  }
 ],
 "metadata": {
  "kernelspec": {
   "display_name": "base",
   "language": "python",
   "name": "python3"
  },
  "language_info": {
   "codemirror_mode": {
    "name": "ipython",
    "version": 3
   },
   "file_extension": ".py",
   "mimetype": "text/x-python",
   "name": "python",
   "nbconvert_exporter": "python",
   "pygments_lexer": "ipython3",
   "version": "3.12.4"
  }
 },
 "nbformat": 4,
 "nbformat_minor": 5
}
