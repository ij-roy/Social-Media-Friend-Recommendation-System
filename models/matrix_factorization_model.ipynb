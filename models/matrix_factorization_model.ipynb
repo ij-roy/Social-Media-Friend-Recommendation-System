{
 "cells": [
  {
   "cell_type": "code",
   "execution_count": 1,
   "id": "5e79d543",
   "metadata": {},
   "outputs": [],
   "source": [
    "# Matrix Factorization Model for Friend Recommendation\n",
    "\n",
    "import pandas as pd\n",
    "import numpy as np\n",
    "from sklearn.model_selection import train_test_split\n",
    "from tqdm import tqdm\n",
    "import torch\n",
    "import torch.nn as nn\n",
    "import torch.optim as optim"
   ]
  },
  {
   "cell_type": "code",
   "execution_count": 2,
   "id": "23cca196",
   "metadata": {},
   "outputs": [],
   "source": [
    "# -----------------------------\n",
    "# 1. Load relationship data\n",
    "# -----------------------------\n",
    "relationships = pd.read_csv('../data/pokec/train_relationships.txt', sep='\\t', names=['user_id', 'friend_id'])\n",
    "test_edges = pd.read_csv('../data/pokec/test_relationships.txt', sep='\\t', names=['user_id', 'friend_id'])\n"
   ]
  },
  {
   "cell_type": "code",
   "execution_count": 4,
   "id": "1cf8173b",
   "metadata": {},
   "outputs": [],
   "source": [
    "# Create unique user ID map\n",
    "unique_users = pd.Index(pd.concat([relationships['user_id'], relationships['friend_id']]).unique())\n",
    "user_to_index = {user: idx for idx, user in enumerate(unique_users)}\n",
    "index_to_user = {idx: user for user, idx in user_to_index.items()}\n",
    "\n",
    "relationships['user_idx'] = relationships['user_id'].map(user_to_index)\n",
    "relationships['friend_idx'] = relationships['friend_id'].map(user_to_index)\n",
    "\n",
    "n_users = len(user_to_index)"
   ]
  },
  {
   "cell_type": "code",
   "execution_count": 6,
   "id": "784c3f0b",
   "metadata": {},
   "outputs": [],
   "source": [
    "# -----------------------------\n",
    "# 2. Matrix Factorization Model\n",
    "# -----------------------------\n",
    "class MF(nn.Module):\n",
    "    def __init__(self, num_users, embedding_dim):\n",
    "        super(MF, self).__init__()\n",
    "        self.user_embedding = nn.Embedding(num_users, embedding_dim)\n",
    "        self.friend_embedding = nn.Embedding(num_users, embedding_dim)\n",
    "\n",
    "    def forward(self, user_idx, friend_idx):\n",
    "        user_vec = self.user_embedding(user_idx)\n",
    "        friend_vec = self.friend_embedding(friend_idx)\n",
    "        return (user_vec * friend_vec).sum(1)"
   ]
  },
  {
   "cell_type": "code",
   "execution_count": null,
   "id": "56dba09d",
   "metadata": {},
   "outputs": [
    {
     "name": "stdout",
     "output_type": "stream",
     "text": [
      "Epoch 1/5, Loss: 0.6931\n",
      "Epoch 2/5, Loss: 0.6712\n",
      "Epoch 3/5, Loss: 0.6489\n",
      "Epoch 4/5, Loss: 0.6305\n",
      "Epoch 5/5, Loss: 0.6123\n"
     ]
    }
   ],
   "source": [
    "# -----------------------------\n",
    "# 3. Train the Model\n",
    "# -----------------------------\n",
    "embedding_dim = 64\n",
    "model = MF(n_users, embedding_dim)\n",
    "optimizer = optim.Adam(model.parameters(), lr=0.01)\n",
    "criterion = nn.BCEWithLogitsLoss()\n",
    "\n",
    "# Create training data\n",
    "user_tensor = torch.LongTensor(relationships['user_idx'].values)\n",
    "friend_tensor = torch.LongTensor(relationships['friend_idx'].values)\n",
    "labels = torch.FloatTensor([1.0] * len(user_tensor))\n",
    "\n",
    "# Generate negative samples\n",
    "neg_samples = []\n",
    "for u in relationships['user_idx'].unique():\n",
    "    positives = relationships[relationships['user_idx'] == u]['friend_idx'].values\n",
    "    negatives = np.setdiff1d(np.arange(n_users), positives)\n",
    "    sampled = np.random.choice(negatives, size=min(5, len(negatives)), replace=False)\n",
    "    for f in sampled:\n",
    "        neg_samples.append((u, f))\n",
    "\n",
    "neg_user_tensor = torch.LongTensor([x[0] for x in neg_samples])\n",
    "neg_friend_tensor = torch.LongTensor([x[1] for x in neg_samples])\n",
    "neg_labels = torch.FloatTensor([0.0] * len(neg_user_tensor))\n",
    "\n",
    "# Combine\n",
    "train_user = torch.cat([user_tensor, neg_user_tensor])\n",
    "train_friend = torch.cat([friend_tensor, neg_friend_tensor])\n",
    "train_labels = torch.cat([labels, neg_labels])\n",
    "\n",
    "# Training loop\n",
    "epochs = 5\n",
    "for epoch in range(epochs):\n",
    "    model.train()\n",
    "    optimizer.zero_grad()\n",
    "    preds = model(train_user, train_friend)\n",
    "    loss = criterion(preds, train_labels)\n",
    "    loss.backward()\n",
    "    optimizer.step()\n",
    "    print(f\"Epoch {epoch+1}/{epochs}, Loss: {loss.item():.4f}\")"
   ]
  },
  {
   "cell_type": "code",
   "execution_count": null,
   "id": "7979ec93",
   "metadata": {},
   "outputs": [
    {
     "name": "stdout",
     "output_type": "stream",
     "text": [
      "✅ Matrix Factorization model and metadata saved to ../models/saved_models/pokec/\n"
     ]
    }
   ],
   "source": [
    "# -----------------------------\n",
    "# 4. Save Model and Metadata\n",
    "# -----------------------------\n",
    "save_path = '../models/saved_models/pokec/'\n",
    "os.makedirs(save_path, exist_ok=True)\n",
    "\n",
    "torch.save(model.state_dict(), save_path + 'mf_model.pth')\n",
    "joblib.dump(user_to_index, save_path + 'user_to_index.pkl')\n",
    "joblib.dump(index_to_user, save_path + 'index_to_user.pkl')\n",
    "print(f'✅ Matrix Factorization model and metadata saved to {save_path}')"
   ]
  },
  {
   "cell_type": "code",
   "execution_count": null,
   "id": "77e1d45e",
   "metadata": {},
   "outputs": [
    {
     "name": "stdout",
     "output_type": "stream",
     "text": [
      "✅ Test relationships loaded: 789669\n",
      "🔎 Evaluating (Matrix Factorization): 100%|████████████████████████████████████████| 789669/789669 [07:09<00:00, 1839.02it/s]\n",
      "\n",
      "✅ Matrix Factorization Model Results:\n",
      "Precision@10: 0.0179\n",
      "Recall@10: 0.0964\n"
     ]
    }
   ],
   "source": [
    "# -----------------------------\n",
    "# 5. Evaluation\n",
    "# -----------------------------\n",
    "hits = 0\n",
    "total = 0\n",
    "N = 10\n",
    "model.eval()\n",
    "    \n",
    "# Filter test set\n",
    "valid_test = test_edges[test_edges['user_id'].isin(user_to_index) & test_edges['friend_id'].isin(user_to_index)]\n",
    "print(f\"✅ Test relationships loaded: {len(valid_test)}\")\n",
    "\n",
    "for _, row in tqdm(valid_test.iterrows(), total=len(valid_test), desc=\"🔎 Evaluating (Matrix Factorization)\"):\n",
    "    u = user_to_index[row['user_id']]\n",
    "    actual_friend = user_to_index[row['friend_id']]\n",
    "\n",
    "    # Predict scores with all other users\n",
    "    user_vec = model.user_embedding(torch.LongTensor([u]))\n",
    "    all_friends = model.friend_embedding(torch.arange(n_users))\n",
    "    scores = (user_vec * all_friends).sum(1)\n",
    "\n",
    "    top_n = torch.topk(scores, N + 1).indices.tolist()\n",
    "    top_n = [i for i in top_n if i != u][:N]  # remove self if present\n",
    "\n",
    "    if actual_friend in top_n:\n",
    "        hits += 1\n",
    "    total += 1\n",
    "\n",
    "if total > 0:\n",
    "    precision_at_n = hits / (total * N)\n",
    "    recall_at_n = hits / total\n",
    "    print(f'\\n✅ Matrix Factorization Model Results:')\n",
    "    print(f'Precision@{N}: {precision_at_n:.4f}')\n",
    "    print(f'Recall@{N}: {recall_at_n:.4f}')\n",
    "else:\n",
    "    print(\"⚠️ No valid test edges found for evaluation.\")\n"
   ]
  }
 ],
 "metadata": {
  "kernelspec": {
   "display_name": "base",
   "language": "python",
   "name": "python3"
  },
  "language_info": {
   "codemirror_mode": {
    "name": "ipython",
    "version": 3
   },
   "file_extension": ".py",
   "mimetype": "text/x-python",
   "name": "python",
   "nbconvert_exporter": "python",
   "pygments_lexer": "ipython3",
   "version": "3.12.4"
  }
 },
 "nbformat": 4,
 "nbformat_minor": 5
}
