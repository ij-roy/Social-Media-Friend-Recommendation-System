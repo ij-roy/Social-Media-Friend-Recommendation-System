{
 "cells": [
  {
   "cell_type": "code",
   "execution_count": 5,
   "id": "e42140b2",
   "metadata": {},
   "outputs": [],
   "source": [
    "# Cosine Similarity Model for Friend Recommendation\n",
    "\n",
    "import pandas as pd\n",
    "import numpy as np\n",
    "import os\n",
    "from sklearn.preprocessing import StandardScaler, OneHotEncoder\n",
    "from sklearn.feature_extraction.text import TfidfVectorizer\n",
    "from sklearn.metrics.pairwise import cosine_similarity\n"
   ]
  },
  {
   "cell_type": "code",
   "execution_count": 2,
   "id": "449b95c2",
   "metadata": {},
   "outputs": [],
   "source": [
    "# -----------------------------\n",
    "# 1. Load Data\n",
    "# -----------------------------\n",
    "profiles = pd.read_csv('../data/pokec/profiles.csv')\n",
    "relationships = pd.read_csv('../data/pokec/relationships.txt', sep='\\t', names=['user_id', 'friend_id'])\n",
    "test_edges = pd.read_csv('../data/pokec/test_relationships.txt', sep='\\t', names=['user_id', 'friend_id'])\n",
    "\n"
   ]
  },
  {
   "cell_type": "code",
   "execution_count": 3,
   "id": "f3e138ef",
   "metadata": {},
   "outputs": [],
   "source": [
    "# -----------------------------\n",
    "# 2. Select and Clean Features\n",
    "# -----------------------------\n",
    "selected_cols = [\n",
    "    'user_id', 'age', 'height', 'weight', 'gender', 'region',\n",
    "    'hobbies', 'favorite_movie_genres', 'music_genres'\n",
    "]\n",
    "df = profiles[selected_cols].dropna()"
   ]
  },
  {
   "cell_type": "code",
   "execution_count": 4,
   "id": "64d1af02",
   "metadata": {},
   "outputs": [],
   "source": [
    "\n",
    "# Scale numeric features\n",
    "num_scaler = StandardScaler()\n",
    "num_scaled = num_scaler.fit_transform(df[['age', 'height', 'weight']])\n"
   ]
  },
  {
   "cell_type": "code",
   "execution_count": 5,
   "id": "f4ecda08",
   "metadata": {},
   "outputs": [],
   "source": [
    "# Encode categorical features\n",
    "ohe = OneHotEncoder(sparse_output=False, handle_unknown='ignore')\n",
    "cat_encoded = ohe.fit_transform(df[['gender', 'region']])"
   ]
  },
  {
   "cell_type": "code",
   "execution_count": 6,
   "id": "7410a73b",
   "metadata": {},
   "outputs": [],
   "source": [
    "# Vectorize textual features\n",
    "vectorizer = TfidfVectorizer(max_features=50)\n",
    "hobbies_vec = vectorizer.fit_transform(df['hobbies'].astype(str)).toarray()\n",
    "movies_vec = vectorizer.fit_transform(df['favorite_movie_genres'].astype(str)).toarray()\n",
    "music_vec = vectorizer.fit_transform(df['music_genres'].astype(str)).toarray()"
   ]
  },
  {
   "cell_type": "code",
   "execution_count": 7,
   "id": "3284f18a",
   "metadata": {},
   "outputs": [],
   "source": [
    "# Combine all features\n",
    "X = np.hstack([num_scaled, cat_encoded, hobbies_vec, movies_vec, music_vec])\n",
    "user_ids = df['user_id'].values\n",
    "user_id_to_index = {uid: idx for idx, uid in enumerate(user_ids)}"
   ]
  },
  {
   "cell_type": "code",
   "execution_count": 1,
   "id": "d38e6a0c",
   "metadata": {},
   "outputs": [],
   "source": [
    "# -----------------------------\n",
    "# 3. Recommend Top-N Friends (Efficient)\n",
    "# -----------------------------\n",
    "def recommend_top_n(user_idx, X, user_ids, n=10):\n",
    "    user_vector = X[user_idx].reshape(1, -1)\n",
    "    similarities = cosine_similarity(user_vector, X)[0]\n",
    "    top_indices = np.argsort(similarities)[::-1]\n",
    "    top_indices = [i for i in top_indices if i != user_idx][:n]\n",
    "    return user_ids[top_indices]"
   ]
  },
  {
   "cell_type": "code",
   "execution_count": null,
   "id": "35e28915",
   "metadata": {},
   "outputs": [
    {
     "name": "stdout",
     "output_type": "stream",
     "text": [
      "✅ Test relationships loaded: 789669\n",
      "✅ Users in features: 427990\n",
      "🔁 Using full test set of 789669 edges for evaluation.\n",
      "🔎 Evaluating: 100%|████████████████████████████████████████| 789669/789669 [06:11<00:00, 2123.45it/s]\n",
      "\n",
      "✅ Cosine Similarity Model Results:\n",
      "Precision@10: 0.0058\n",
      "Recall@10: 0.0612\n"
     ]
    }
   ],
   "source": [
    "from tqdm import tqdm\n",
    "import pandas as pd\n",
    "\n",
    "# -----------------------------\n",
    "# 4. Evaluate on Test Set (Full Evaluation)\n",
    "# -----------------------------\n",
    "\n",
    "# Filter test edges for valid users\n",
    "test_edges = test_edges[test_edges['user_id'].isin(user_id_to_index)]\n",
    "test_edges = test_edges[test_edges['friend_id'].isin(user_id_to_index)]\n",
    "\n",
    "# Log filtered size\n",
    "print(f\"✅ Test relationships loaded: {len(test_edges)}\")\n",
    "print(f\"✅ Users in features: {len(user_ids)}\")\n",
    "\n",
    "# 🚫 No sampling — evaluate on full test set\n",
    "print(f\"🔁 Using full test set of {len(test_edges)} edges for evaluation.\")\n",
    "\n",
    "# Setup metrics\n",
    "hits = 0\n",
    "total = 0\n",
    "N = 10  # Top-N friends to recommend\n",
    "\n",
    "# Progress bar evaluation loop\n",
    "for _, row in tqdm(test_edges.iterrows(), total=len(test_edges), desc=\"🔎 Evaluating\"):\n",
    "    user = row['user_id']\n",
    "    actual_friend = row['friend_id']\n",
    "\n",
    "    if user not in user_id_to_index or actual_friend not in user_id_to_index:\n",
    "        continue\n",
    "\n",
    "    uidx = user_id_to_index[user]\n",
    "    recommended = recommend_top_n(uidx, X, user_ids, n=N)\n",
    "\n",
    "    if actual_friend in recommended:\n",
    "        hits += 1\n",
    "    total += 1\n",
    "\n",
    "# Final metrics\n",
    "if total > 0:\n",
    "    precision_at_n = hits / (total * N)\n",
    "    recall_at_n = hits / total\n",
    "\n",
    "    print(f'\\n✅ Cosine Similarity Model Results:')\n",
    "    print(f'Precision@{N}: {precision_at_n:.4f}')\n",
    "    print(f'Recall@{N}: {recall_at_n:.4f}')\n",
    "else:\n",
    "    print(\"⚠️ No valid test edges found. Precision and Recall cannot be computed.\")"
   ]
  },
  {
   "cell_type": "code",
   "execution_count": null,
   "id": "fb390f65",
   "metadata": {},
   "outputs": [
    {
     "name": "stdout",
     "output_type": "stream",
     "text": [
      "✅ Model and assets saved to ../models/saved_models/pokec/\n"
     ]
    }
   ],
   "source": [
    "# -----------------------------\n",
    "# 5. Save the Model Components\n",
    "# -----------------------------\n",
    "save_path = '../models/saved_models/pokec/'\n",
    "os.makedirs(save_path, exist_ok=True)\n",
    "\n",
    "np.save(save_path + 'cosine_features.npy', X)\n",
    "joblib.dump(user_ids, save_path + 'user_ids.pkl')\n",
    "joblib.dump(num_scaler, save_path + 'scaler.pkl')\n",
    "joblib.dump(ohe, save_path + 'encoder.pkl')\n",
    "joblib.dump(vectorizer, save_path + 'tfidf_vectorizer.pkl')\n",
    "\n",
    "print(f'✅ Model and assets saved to {save_path}')"
   ]
  }
 ],
 "metadata": {
  "kernelspec": {
   "display_name": "base",
   "language": "python",
   "name": "python3"
  },
  "language_info": {
   "codemirror_mode": {
    "name": "ipython",
    "version": 3
   },
   "file_extension": ".py",
   "mimetype": "text/x-python",
   "name": "python",
   "nbconvert_exporter": "python",
   "pygments_lexer": "ipython3",
   "version": "3.12.4"
  }
 },
 "nbformat": 4,
 "nbformat_minor": 5
}
